{
 "cells": [
  {
   "cell_type": "markdown",
   "id": "0dd3f277-9be6-4833-8691-1fc27dbee634",
   "metadata": {},
   "source": [
    "# Exception Handling\n"
   ]
  },
  {
   "cell_type": "code",
   "execution_count": 1,
   "id": "bb34d1d3-564c-4ba8-878b-6d86a08d0fab",
   "metadata": {},
   "outputs": [
    {
     "ename": "ZeroDivisionError",
     "evalue": "division by zero",
     "output_type": "error",
     "traceback": [
      "\u001b[1;31m---------------------------------------------------------------------------\u001b[0m",
      "\u001b[1;31mZeroDivisionError\u001b[0m                         Traceback (most recent call last)",
      "Cell \u001b[1;32mIn[1], line 4\u001b[0m\n\u001b[0;32m      1\u001b[0m a\u001b[38;5;241m=\u001b[39m\u001b[38;5;241m3\u001b[39m\n\u001b[0;32m      2\u001b[0m b\u001b[38;5;241m=\u001b[39m\u001b[38;5;241m0\u001b[39m\n\u001b[1;32m----> 4\u001b[0m result\u001b[38;5;241m=\u001b[39ma\u001b[38;5;241m/\u001b[39mb\n\u001b[0;32m      5\u001b[0m \u001b[38;5;28mprint\u001b[39m(\u001b[38;5;124m\"\u001b[39m\u001b[38;5;124m*******\u001b[39m\u001b[38;5;124m\"\u001b[39m)\n\u001b[0;32m      6\u001b[0m \u001b[38;5;28mprint\u001b[39m(result)\n",
      "\u001b[1;31mZeroDivisionError\u001b[0m: division by zero"
     ]
    }
   ],
   "source": [
    "a=3\n",
    "b=0\n",
    "\n",
    "result=a/b\n",
    "print(\"*******\")\n",
    "print(result)\n"
   ]
  },
  {
   "cell_type": "code",
   "execution_count": 54,
   "id": "6f7c049e-111d-4e4f-aa9a-23bf58ce7e46",
   "metadata": {},
   "outputs": [
    {
     "name": "stdout",
     "output_type": "stream",
     "text": [
      "Zero Division error\n"
     ]
    }
   ],
   "source": [
    "x=2\n",
    "y=0\n",
    "\n",
    "try:\n",
    "    result=x/y\n",
    "    print(result)\n",
    "except ZeroDivisionError:          #zero division error\n",
    "    print(\"Zero Division error\")"
   ]
  },
  {
   "cell_type": "code",
   "execution_count": 56,
   "id": "dfd1167c-208f-4cae-85d7-a39fcd8888ac",
   "metadata": {},
   "outputs": [
    {
     "name": "stdin",
     "output_type": "stream",
     "text": [
      "Enter a rt\n"
     ]
    },
    {
     "name": "stdout",
     "output_type": "stream",
     "text": [
      "a is not the same datatype integer\n"
     ]
    }
   ],
   "source": [
    "try:\n",
    "    a=int(input(\"Enter a\"))\n",
    "except ValueError:                             #Value Error\n",
    "    print(\"a is not the same datatype integer\")\n"
   ]
  },
  {
   "cell_type": "code",
   "execution_count": 38,
   "id": "a72934fb-5ee7-45c6-a902-b9d46f5ef8ac",
   "metadata": {},
   "outputs": [
    {
     "name": "stdin",
     "output_type": "stream",
     "text": [
      "Enter a: 0\n"
     ]
    },
    {
     "name": "stdout",
     "output_type": "stream",
     "text": [
      "a is not integer\n"
     ]
    }
   ],
   "source": [
    "a=int(input(\"Enter a:\"))\n",
    "print(\"a is not integer\")\n"
   ]
  },
  {
   "cell_type": "code",
   "execution_count": 46,
   "id": "f6e3404d-302d-4f0e-92bb-503e177f0a7c",
   "metadata": {},
   "outputs": [
    {
     "name": "stdout",
     "output_type": "stream",
     "text": [
      "This is a wrong expression\n"
     ]
    }
   ],
   "source": [
    "try:\n",
    "    result=1+\"hello\"\n",
    "    print(result)\n",
    "except TypeError as e:                                #Type Error\n",
    "    print(\"This is a wrong expression\")\n",
    "    "
   ]
  },
  {
   "cell_type": "code",
   "execution_count": 60,
   "id": "bcf6518f-387b-493c-819a-2608309b8cfd",
   "metadata": {},
   "outputs": [
    {
     "name": "stdout",
     "output_type": "stream",
     "text": [
      "It is zero division error\n"
     ]
    }
   ],
   "source": [
    "try:\n",
    "    y=7/0\n",
    "    result=5+\"hi\"\n",
    "    x=int(input(\"Enter the number\"))\n",
    "except ZeroDivisionError:\n",
    "    print(\"It is zero division error\")\n",
    "except TypeError:                               #All errors at once\n",
    "    print(\"It is a wrong expression\")\n",
    "except ValueError:\n",
    "    print(\"The given value is not acceptable\")"
   ]
  },
  {
   "cell_type": "code",
   "execution_count": 70,
   "id": "7998bd0a-3abc-49e9-afc2-7cbe19790282",
   "metadata": {},
   "outputs": [
    {
     "name": "stdout",
     "output_type": "stream",
     "text": [
      "File is not found error\n"
     ]
    }
   ],
   "source": [
    "try:\n",
    "    file=open(\"notfound.txt\",\"r\")\n",
    "    print(file.read())\n",
    "except FileNotFoundError:     #File Not Found Error \n",
    "    print(\"File is not found error\")"
   ]
  },
  {
   "cell_type": "code",
   "execution_count": 72,
   "id": "9b0d6b15-1c8f-43ed-9e81-12a729404acd",
   "metadata": {},
   "outputs": [
    {
     "ename": "FileNotFoundError",
     "evalue": "[Errno 2] No such file or directory: 'tsdd.txt'",
     "output_type": "error",
     "traceback": [
      "\u001b[1;31m---------------------------------------------------------------------------\u001b[0m",
      "\u001b[1;31mFileNotFoundError\u001b[0m                         Traceback (most recent call last)",
      "Cell \u001b[1;32mIn[72], line 1\u001b[0m\n\u001b[1;32m----> 1\u001b[0m file\u001b[38;5;241m=\u001b[39m\u001b[38;5;28mopen\u001b[39m(\u001b[38;5;124m\"\u001b[39m\u001b[38;5;124mtsdd.txt\u001b[39m\u001b[38;5;124m\"\u001b[39m,\u001b[38;5;124m\"\u001b[39m\u001b[38;5;124mr\u001b[39m\u001b[38;5;124m\"\u001b[39m)\n\u001b[0;32m      2\u001b[0m \u001b[38;5;28mprint\u001b[39m(\u001b[38;5;124m\"\u001b[39m\u001b[38;5;124m*****\u001b[39m\u001b[38;5;124m\"\u001b[39m)\n\u001b[0;32m      3\u001b[0m \u001b[38;5;28mprint\u001b[39m(file\u001b[38;5;241m.\u001b[39mread())\n",
      "File \u001b[1;32m~\\anaconda3\\Lib\\site-packages\\IPython\\core\\interactiveshell.py:324\u001b[0m, in \u001b[0;36m_modified_open\u001b[1;34m(file, *args, **kwargs)\u001b[0m\n\u001b[0;32m    317\u001b[0m \u001b[38;5;28;01mif\u001b[39;00m file \u001b[38;5;129;01min\u001b[39;00m {\u001b[38;5;241m0\u001b[39m, \u001b[38;5;241m1\u001b[39m, \u001b[38;5;241m2\u001b[39m}:\n\u001b[0;32m    318\u001b[0m     \u001b[38;5;28;01mraise\u001b[39;00m \u001b[38;5;167;01mValueError\u001b[39;00m(\n\u001b[0;32m    319\u001b[0m         \u001b[38;5;124mf\u001b[39m\u001b[38;5;124m\"\u001b[39m\u001b[38;5;124mIPython won\u001b[39m\u001b[38;5;124m'\u001b[39m\u001b[38;5;124mt let you open fd=\u001b[39m\u001b[38;5;132;01m{\u001b[39;00mfile\u001b[38;5;132;01m}\u001b[39;00m\u001b[38;5;124m by default \u001b[39m\u001b[38;5;124m\"\u001b[39m\n\u001b[0;32m    320\u001b[0m         \u001b[38;5;124m\"\u001b[39m\u001b[38;5;124mas it is likely to crash IPython. If you know what you are doing, \u001b[39m\u001b[38;5;124m\"\u001b[39m\n\u001b[0;32m    321\u001b[0m         \u001b[38;5;124m\"\u001b[39m\u001b[38;5;124myou can use builtins\u001b[39m\u001b[38;5;124m'\u001b[39m\u001b[38;5;124m open.\u001b[39m\u001b[38;5;124m\"\u001b[39m\n\u001b[0;32m    322\u001b[0m     )\n\u001b[1;32m--> 324\u001b[0m \u001b[38;5;28;01mreturn\u001b[39;00m io_open(file, \u001b[38;5;241m*\u001b[39margs, \u001b[38;5;241m*\u001b[39m\u001b[38;5;241m*\u001b[39mkwargs)\n",
      "\u001b[1;31mFileNotFoundError\u001b[0m: [Errno 2] No such file or directory: 'tsdd.txt'"
     ]
    }
   ],
   "source": [
    "file=open(\"tsdd.txt\",\"r\")\n",
    "print(\"*****\")\n",
    "print(file.read())\n",
    "print(\"Error file was not found\")"
   ]
  },
  {
   "cell_type": "code",
   "execution_count": 368,
   "id": "e0ec1d29-9338-40d6-a90c-e7f3aaf6ad86",
   "metadata": {},
   "outputs": [
    {
     "name": "stdout",
     "output_type": "stream",
     "text": [
      "Index is not found\n"
     ]
    }
   ],
   "source": [
    "try:\n",
    "    lis=[1,2,3,4]\n",
    "    print(lis[5])\n",
    "except IndexError:\n",
    "    print(\"Index is not found\")"
   ]
  },
  {
   "cell_type": "code",
   "execution_count": 370,
   "id": "747544a0-9113-475c-acb1-16f542c760e1",
   "metadata": {},
   "outputs": [
    {
     "name": "stdout",
     "output_type": "stream",
     "text": [
      "3\n"
     ]
    }
   ],
   "source": [
    "try:\n",
    "    lis=[2,3,4]\n",
    "    print(lis[1])\n",
    "except IndexError:        #Index Error\n",
    "    print(\"Index is out of Range\")"
   ]
  },
  {
   "cell_type": "code",
   "execution_count": 78,
   "id": "9897bf4b-2193-45d7-abe3-2c6554edf319",
   "metadata": {},
   "outputs": [
    {
     "name": "stdout",
     "output_type": "stream",
     "text": [
      "Dictionary is not found\n"
     ]
    }
   ],
   "source": [
    "try:\n",
    "    dic={1:\"arthur\",2:\"thomas\"}\n",
    "    print(dic[3])\n",
    "except KeyError:        #Key Error\n",
    "    print(\"Dictionary is not found\")"
   ]
  },
  {
   "cell_type": "code",
   "execution_count": 105,
   "id": "01db1b72-f475-46c8-87ce-0e3298083f5e",
   "metadata": {},
   "outputs": [
    {
     "name": "stdout",
     "output_type": "stream",
     "text": [
      "Index Error\n"
     ]
    }
   ],
   "source": [
    "try:\n",
    "    a=9/1\n",
    "    lis=[1,2,3]\n",
    "    print(lis[7])\n",
    "    a=int(input(\"Enter any string\"))\n",
    "except ZeroDivisionError:\n",
    "    print(\"Zero Division Error\")\n",
    "except ValueError:\n",
    "    print(\"Value Error\")\n",
    "except IndexError:\n",
    "    print(\"Index Error\")\n"
   ]
  },
  {
   "cell_type": "code",
   "execution_count": 127,
   "id": "d7f53783-1d08-44fc-a207-12dd8e14ed43",
   "metadata": {},
   "outputs": [
    {
     "name": "stdin",
     "output_type": "stream",
     "text": [
      "Enter any string: ff\n"
     ]
    },
    {
     "name": "stdout",
     "output_type": "stream",
     "text": [
      "invalid literal for int() with base 10: 'ff'\n"
     ]
    }
   ],
   "source": [
    "try:\n",
    "    a=7/5\n",
    "    a=int(input(\"Enter any string:\"))\n",
    "    lis=[3,4,5,6]\n",
    "    print(lis[3])\n",
    "except Exception as e:        #exception for all\n",
    "    print(e)\n"
   ]
  },
  {
   "cell_type": "code",
   "execution_count": 147,
   "id": "80438f0a-29a8-4da9-a21b-a946a1fe48df",
   "metadata": {},
   "outputs": [
    {
     "name": "stdout",
     "output_type": "stream",
     "text": [
      "2.6666666666666665\n"
     ]
    },
    {
     "name": "stdin",
     "output_type": "stream",
     "text": [
      "Enter a value 3\n"
     ]
    },
    {
     "name": "stdout",
     "output_type": "stream",
     "text": [
      "3\n",
      "polly\n"
     ]
    }
   ],
   "source": [
    "try:\n",
    "    a=8/3\n",
    "    print(a)\n",
    "    b=int(input(\"Enter a value\"))\n",
    "    print(b)\n",
    "    dic={1:\"ada\",2:\"polly\"}\n",
    "    print(dic[2])\n",
    "except Exception as e:\n",
    "    print(\"This is exception\")\n",
    "    print(e)"
   ]
  },
  {
   "cell_type": "code",
   "execution_count": 153,
   "id": "d1c9626c-4835-455f-b213-3dab5b4ba5e7",
   "metadata": {},
   "outputs": [
    {
     "name": "stdout",
     "output_type": "stream",
     "text": [
      "Result of division 0.5\n"
     ]
    }
   ],
   "source": [
    "x=2\n",
    "y=4\n",
    "try:\n",
    "    result=x/y\n",
    "except Exception as e:     #else exception block error\n",
    "    print(e)\n",
    "else:\n",
    "    print(\"Result of division\",result)\n",
    "    "
   ]
  },
  {
   "cell_type": "code",
   "execution_count": 171,
   "id": "1356016d-37ec-4e0a-9d2f-11082044242c",
   "metadata": {},
   "outputs": [
    {
     "name": "stdout",
     "output_type": "stream",
     "text": [
      "[Errno 2] No such file or directory: 'not so casual.txt'\n",
      "I am in finally block\n"
     ]
    }
   ],
   "source": [
    "try:\n",
    "    file=open(\"not so casual.txt\",\"r\")\n",
    "    print(file.read())\n",
    "except FileNotFoundError as e:     #finally block exception error\n",
    "    print(e)\n",
    "finally:\n",
    "    print(\"I am in finally block\")\n",
    "    file.close()"
   ]
  },
  {
   "cell_type": "code",
   "execution_count": 177,
   "id": "d5b7ce3f-65f1-492c-9e9e-f33dcaf43bda",
   "metadata": {},
   "outputs": [
    {
     "name": "stdout",
     "output_type": "stream",
     "text": [
      "[1, 'son', 33]\n",
      "This is else block\n",
      "I am in finally block\n"
     ]
    }
   ],
   "source": [
    "try:\n",
    "    file=open(\"casual.txt\",\"r\")\n",
    "    print(file.read())\n",
    "except FileNotFoundError as e:   \n",
    "    print(e)\n",
    "\n",
    "else:                              #else and finally block at once\n",
    "    print(\"This is else block\")\n",
    "finally:\n",
    "    print(\"I am in finally block\")\n",
    "    file.close()"
   ]
  },
  {
   "cell_type": "code",
   "execution_count": 201,
   "id": "ba6f6be2-2f41-4925-ac3e-f18c44b92c47",
   "metadata": {},
   "outputs": [
    {
     "name": "stdout",
     "output_type": "stream",
     "text": [
      "y can't be zero\n"
     ]
    }
   ],
   "source": [
    "def divide(x,y):\n",
    "    if y==0:\n",
    "        raise ZeroDivisionError(\"y can't be zero\")\n",
    "    return x/y\n",
    "    \n",
    "try:                      #raise exception if it's zero\n",
    "    divide(2,0)\n",
    "except ZeroDivisionError as e:\n",
    "    print(e)       "
   ]
  },
  {
   "cell_type": "code",
   "execution_count": 209,
   "id": "c5eede64-2daa-4c92-8414-a486cdd61b00",
   "metadata": {},
   "outputs": [
    {
     "name": "stdout",
     "output_type": "stream",
     "text": [
      "0.3333333333333333\n"
     ]
    }
   ],
   "source": [
    "def divide(x,y):\n",
    "    if y==0:\n",
    "        raise ZeroDivisionError(\"y can't be zero\")\n",
    "    return x/y\n",
    "    \n",
    "try:\n",
    "    result=divide(2,6)\n",
    "except ZeroDivisionError as e:      #raise exception if it's not zero\n",
    "    print(e)\n",
    "else:\n",
    "    print(result)"
   ]
  },
  {
   "cell_type": "code",
   "execution_count": 356,
   "id": "10c5665d-492e-4606-bf23-f388b6b33a67",
   "metadata": {},
   "outputs": [
    {
     "name": "stdout",
     "output_type": "stream",
     "text": [
      "Age is between 0 and 100\n"
     ]
    }
   ],
   "source": [
    "def check_age(age):             #function defenition\n",
    "    if age>0 or age<100:\n",
    "        raise ValueError(\"Age is between 0 and 100\")\n",
    "    else:\n",
    "        return f\"Age is valid: {age}\"\n",
    "try:\n",
    "    check_age(-15)             #invalid age  #function calling\n",
    "except ValueError as e:\n",
    "    print(e)\n",
    "else:\n",
    "    print(\"Age is validated\") "
   ]
  },
  {
   "cell_type": "code",
   "execution_count": 358,
   "id": "38b8c287-5294-492e-8359-ba3ec8405b5c",
   "metadata": {},
   "outputs": [
    {
     "name": "stdout",
     "output_type": "stream",
     "text": [
      "Negative numbers are not allowed\n"
     ]
    }
   ],
   "source": [
    "#class NegativeNumberError(Exception):\n",
    "class error(Exception):\n",
    "    pass\n",
    "def check_positive(number):\n",
    "    try:\n",
    "        if number<0:\n",
    "            raise error(\"Negative numbers are not allowed\")\n",
    "        print(f\"The number is:{number}\") \n",
    "    except Exception as e:\n",
    "           print(e)\n",
    "check_positive(-5)"
   ]
  },
  {
   "cell_type": "code",
   "execution_count": 264,
   "id": "8490ff1b-e0d4-4a22-9c24-38add24ca6b8",
   "metadata": {},
   "outputs": [
    {
     "ename": "IndentationError",
     "evalue": "unindent does not match any outer indentation level (<string>, line 6)",
     "output_type": "error",
     "traceback": [
      "\u001b[1;36m  File \u001b[1;32m<string>:6\u001b[1;36m\u001b[0m\n\u001b[1;33m    raise (\"The value must be below zero\")\u001b[0m\n\u001b[1;37m                                          ^\u001b[0m\n\u001b[1;31mIndentationError\u001b[0m\u001b[1;31m:\u001b[0m unindent does not match any outer indentation level\n"
     ]
    }
   ],
   "source": [
    "class Zero(Exception):\n",
    "    pass\n",
    "def division(number):\n",
    "    try:\n",
    "        "
   ]
  },
  {
   "cell_type": "code",
   "execution_count": null,
   "id": "ae740610-c86b-4547-8c0f-fae99d7d635d",
   "metadata": {},
   "outputs": [],
   "source": []
  },
  {
   "cell_type": "code",
   "execution_count": null,
   "id": "712ee8f9-4980-40cb-bd6d-e9f4fddd5b9e",
   "metadata": {},
   "outputs": [],
   "source": []
  }
 ],
 "metadata": {
  "kernelspec": {
   "display_name": "Python 3 (ipykernel)",
   "language": "python",
   "name": "python3"
  },
  "language_info": {
   "codemirror_mode": {
    "name": "ipython",
    "version": 3
   },
   "file_extension": ".py",
   "mimetype": "text/x-python",
   "name": "python",
   "nbconvert_exporter": "python",
   "pygments_lexer": "ipython3",
   "version": "3.12.4"
  }
 },
 "nbformat": 4,
 "nbformat_minor": 5
}
